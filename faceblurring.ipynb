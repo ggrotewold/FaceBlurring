{
 "cells": [
  {
   "cell_type": "code",
   "execution_count": 17,
   "metadata": {},
   "outputs": [
    {
     "name": "stdout",
     "output_type": "stream",
     "text": [
      "video-framerate:  29.746853613237903\n"
     ]
    }
   ],
   "source": [
    "\n",
    "\"\"\"\n",
    "Author: Gerrit Grotewold\n",
    "https://medium.com/@limavallantin\n",
    "This program reuses code from Lima Vallantin and is free software; you can redistribute it and/or modify\n",
    "it under the terms of the GNU General Public License as published by\n",
    "the Free Software Foundation; either version 2 of the License, or\n",
    "(at your option) any later version.\n",
    "This program is distributed in the hope that it will be useful,\n",
    "but WITHOUT ANY WARRANTY; without even the implied warranty of\n",
    "MERCHANTABILITY or FITNESS FOR A PARTICULAR PURPOSE. See the\n",
    "GNU General Public License for more details on http://www.gnu.org/licenses/.\n",
    "\"\"\"\n",
    "\n",
    "import cv2\n",
    "\n",
    "cascade = cv2.CascadeClassifier('haarcascade_frontalface_default.xml')\n",
    "\n",
    "\n",
    "videofile = \"./infile.mp4\"\n",
    "out_file = './outfile.mp4'\n",
    "\n",
    "\n",
    "def find_and_blur(bw, color): \n",
    "    # detect al faces\n",
    "    faces = cascade.detectMultiScale(bw, 1.1, 4)\n",
    "    # get the locations of the faces\n",
    "    for (x, y, w, h) in faces:\n",
    "        # select the areas where the face was found\n",
    "        roi_color = color[y:y+h, x:x+w]\n",
    "        # blur the colored image\n",
    "        blur = cv2.GaussianBlur(roi_color, (101,101), 0)\n",
    "        # Insert ROI back into image\n",
    "        color[y:y+h, x:x+w] = blur            \n",
    "    \n",
    "    # return the blurred image\n",
    "    return color\n",
    "\n",
    "#read video\n",
    "video_capture = cv2.VideoCapture(videofile)\n",
    "#video_capture.isOpened()\n",
    "print('video-framerate: ', video_capture.get(cv2.CAP_PROP_FPS))\n",
    "\n",
    "\n",
    "\n"
   ]
  },
  {
   "cell_type": "code",
   "execution_count": 13,
   "metadata": {},
   "outputs": [],
   "source": [
    "frame_width = int(video_capture.get(cv2.CAP_PROP_FRAME_WIDTH))\n",
    "frame_height = int(video_capture.get(cv2.CAP_PROP_FRAME_HEIGHT))\n",
    "fourcc = cv2.VideoWriter_fourcc(*'MP4V')\n",
    "out = cv2.VideoWriter(out_file,fourcc, 20.0, (frame_width,frame_height))"
   ]
  },
  {
   "cell_type": "code",
   "execution_count": 14,
   "metadata": {},
   "outputs": [
    {
     "name": "stdout",
     "output_type": "stream",
     "text": [
      "3.04 ms ± 131 µs per loop (mean ± std. dev. of 7 runs, 1 loop each)\n"
     ]
    }
   ],
   "source": [
    "%%timeit\n",
    "success, color = video_capture.read()\n",
    "\n",
    "\n",
    "while success:\n",
    "    # transform color -> grayscale\n",
    "    bw = cv2.cvtColor(color, cv2.COLOR_BGR2GRAY)\n",
    "    # detect the face and blur it\n",
    "    blur = find_and_blur(bw, color)\n",
    "    # display output\n",
    "    #cv2.imshow('Video', blur)\n",
    "    out.write(blur)\n",
    "    # read next frame\n",
    "    success, color = video_capture.read()"
   ]
  },
  {
   "cell_type": "code",
   "execution_count": 15,
   "metadata": {},
   "outputs": [],
   "source": [
    "# close video_capture      \n",
    "video_capture.release()\n",
    "out.release()\n",
    "# close window\n",
    "cv2.destroyAllWindows()"
   ]
  },
  {
   "cell_type": "code",
   "execution_count": 16,
   "metadata": {},
   "outputs": [
    {
     "data": {
      "text/plain": [
       "29.746853613237903"
      ]
     },
     "execution_count": 16,
     "metadata": {},
     "output_type": "execute_result"
    }
   ],
   "source": [
    "video_capture = cv2.VideoCapture(videofile)\n"
   ]
  },
  {
   "cell_type": "code",
   "execution_count": null,
   "metadata": {},
   "outputs": [],
   "source": []
  }
 ],
 "metadata": {
  "kernelspec": {
   "display_name": "Python 3",
   "language": "python",
   "name": "python3"
  },
  "language_info": {
   "codemirror_mode": {
    "name": "ipython",
    "version": 3
   },
   "file_extension": ".py",
   "mimetype": "text/x-python",
   "name": "python",
   "nbconvert_exporter": "python",
   "pygments_lexer": "ipython3",
   "version": "3.7.9"
  }
 },
 "nbformat": 4,
 "nbformat_minor": 4
}
